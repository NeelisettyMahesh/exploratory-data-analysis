{
 "cells": [
  {
   "cell_type": "code",
   "execution_count": 3,
   "id": "9b22c2cb-218f-46ee-b5cb-8d846eee37d8",
   "metadata": {},
   "outputs": [
    {
     "name": "stdout",
     "output_type": "stream",
     "text": [
      "     Survived  Pclass  Sex       Age  SibSp  Parch      Fare  Embarked_Q  \\\n",
      "0           0       3    0 -0.565736      1      0 -0.502445       False   \n",
      "1           1       1    1  0.663861      1      0  0.786845       False   \n",
      "2           1       3    1 -0.258337      0      0 -0.488854       False   \n",
      "3           1       1    1  0.433312      1      0  0.420730       False   \n",
      "4           0       3    0  0.433312      0      0 -0.486337       False   \n",
      "..        ...     ...  ...       ...    ...    ...       ...         ...   \n",
      "886         0       2    0 -0.181487      0      0 -0.386671       False   \n",
      "887         1       1    1 -0.796286      0      0 -0.044381       False   \n",
      "888         0       3    1 -0.104637      1      2 -0.176263       False   \n",
      "889         1       1    0 -0.258337      0      0 -0.044381       False   \n",
      "890         0       3    0  0.202762      0      0 -0.492378        True   \n",
      "\n",
      "     Embarked_S  \n",
      "0          True  \n",
      "1         False  \n",
      "2          True  \n",
      "3          True  \n",
      "4          True  \n",
      "..          ...  \n",
      "886        True  \n",
      "887        True  \n",
      "888        True  \n",
      "889       False  \n",
      "890       False  \n",
      "\n",
      "[891 rows x 9 columns]\n"
     ]
    }
   ],
   "source": [
    "import pandas as pd\n",
    "import numpy as np\n",
    "from sklearn.preprocessing import StandardScaler\n",
    "df = pd.read_csv(\"Titanic-Dataset (1).csv\")\n",
    "df['Age'] = df['Age'].fillna(df['Age'].median())                    \n",
    "df['Embarked'] = df['Embarked'].fillna(df['Embarked'].mode()[0])    \n",
    "df = df.drop('Cabin', axis=1)       \n",
    "df['Sex'] = df['Sex'].map({'male': 0, 'female': 1})\n",
    "df = pd.get_dummies(df, columns=['Embarked'], drop_first=True)\n",
    "scaler = StandardScaler()\n",
    "df[['Age', 'Fare']] = scaler.fit_transform(df[['Age', 'Fare']])\n",
    "df = df.drop(['Name', 'Ticket', 'PassengerId'], axis=1)\n",
    "print(df)"
   ]
  },
  {
   "cell_type": "code",
   "execution_count": null,
   "id": "8f9dd985-40cf-426a-8858-15b84c9ffce0",
   "metadata": {},
   "outputs": [],
   "source": []
  }
 ],
 "metadata": {
  "kernelspec": {
   "display_name": "Python [conda env:a1]",
   "language": "python",
   "name": "conda-env-a1-py"
  },
  "language_info": {
   "codemirror_mode": {
    "name": "ipython",
    "version": 3
   },
   "file_extension": ".py",
   "mimetype": "text/x-python",
   "name": "python",
   "nbconvert_exporter": "python",
   "pygments_lexer": "ipython3",
   "version": "3.13.5"
  }
 },
 "nbformat": 4,
 "nbformat_minor": 5
}
